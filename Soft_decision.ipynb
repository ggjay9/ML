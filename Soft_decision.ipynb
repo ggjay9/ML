{
  "nbformat": 4,
  "nbformat_minor": 0,
  "metadata": {
    "colab": {
      "provenance": []
    },
    "kernelspec": {
      "name": "python3",
      "display_name": "Python 3"
    },
    "language_info": {
      "name": "python"
    }
  },
  "cells": [
    {
      "cell_type": "code",
      "execution_count": 2,
      "metadata": {
        "id": "C-FJzmqXeRrC",
        "colab": {
          "base_uri": "https://localhost:8080/"
        },
        "outputId": "272ec646-5686-438c-964b-43b5cb56b198"
      },
      "outputs": [
        {
          "output_type": "stream",
          "name": "stdout",
          "text": [
            "Mounted at /content/drive\n"
          ]
        }
      ],
      "source": [
        "import numpy as np\n",
        "from zipfile import ZipFile\n",
        "import pickle\n",
        "import re\n",
        "import math\n",
        "import torch\n",
        "from torch import nn, optim\n",
        "from scipy.spatial import distance\n",
        "#from google.colab import drive\n",
        "#drive.mount('/content/drive')"
      ]
    },
    {
      "cell_type": "code",
      "source": [
        "# Load data\n",
        "\n",
        "!wget -O x.zip \"https://drive.google.com/uc?export=download&id=1221858Ognjuffo3Pv6QezSiBw8xBOBe-\"\n",
        "!wget -O equal.pth \"https://drive.google.com/uc?export=download&id=1_RIKfYvv6AuBmpeHZv1Nb3e5_qgpxRh0\"\n",
        "\n",
        "with ZipFile('/content/x.zip', 'r') as f:\n",
        "  f.extract('x.txt')\n",
        "\n",
        "x_real = []\n",
        "x_imag = []\n",
        "x = []\n",
        "with open('x.txt') as input_file:\n",
        "    for line in input_file:\n",
        "      temp = re.sub(r'[()]', \"\", line)\n",
        "      temp = complex(temp)\n",
        "      x.append((temp.real, temp.imag))\n",
        "      x_real.append(temp.real)\n",
        "      x_imag.append(temp.imag)\n",
        "\n",
        "y_real = []\n",
        "y_imag = []\n",
        "#with open('drive/MyDrive/y.txt') as input_file:\n",
        "with open('y.txt') as input_file:\n",
        "    for line in input_file:\n",
        "      temp = re.sub(r'[()]', \"\", line)\n",
        "      temp = complex(temp)\n",
        "      y_real.append(temp.real)\n",
        "      y_imag.append(temp.imag)"
      ],
      "metadata": {
        "id": "t6NlGDsqedED",
        "colab": {
          "base_uri": "https://localhost:8080/"
        },
        "outputId": "ee76191c-155b-483d-d305-02ade3bc2387"
      },
      "execution_count": 3,
      "outputs": [
        {
          "output_type": "stream",
          "name": "stdout",
          "text": [
            "--2023-02-01 08:42:17--  https://drive.google.com/uc?export=download&id=1221858Ognjuffo3Pv6QezSiBw8xBOBe-\n",
            "Resolving drive.google.com (drive.google.com)... 74.125.69.100, 74.125.69.138, 74.125.69.139, ...\n",
            "Connecting to drive.google.com (drive.google.com)|74.125.69.100|:443... connected.\n",
            "HTTP request sent, awaiting response... 303 See Other\n",
            "Location: https://doc-0s-80-docs.googleusercontent.com/docs/securesc/ha0ro937gcuc7l7deffksulhg5h7mbp1/nq8cd3uht0ue1c3q9sldg73t381070gt/1675240875000/00806258749903615801/*/1221858Ognjuffo3Pv6QezSiBw8xBOBe-?e=download&uuid=7d063410-e2a3-4225-b79e-fad93180d328 [following]\n",
            "Warning: wildcards not supported in HTTP.\n",
            "--2023-02-01 08:42:23--  https://doc-0s-80-docs.googleusercontent.com/docs/securesc/ha0ro937gcuc7l7deffksulhg5h7mbp1/nq8cd3uht0ue1c3q9sldg73t381070gt/1675240875000/00806258749903615801/*/1221858Ognjuffo3Pv6QezSiBw8xBOBe-?e=download&uuid=7d063410-e2a3-4225-b79e-fad93180d328\n",
            "Resolving doc-0s-80-docs.googleusercontent.com (doc-0s-80-docs.googleusercontent.com)... 74.125.70.132, 2607:f8b0:4001:c02::84\n",
            "Connecting to doc-0s-80-docs.googleusercontent.com (doc-0s-80-docs.googleusercontent.com)|74.125.70.132|:443... connected.\n",
            "HTTP request sent, awaiting response... 200 OK\n",
            "Length: 2578164 (2.5M) [application/x-zip-compressed]\n",
            "Saving to: ‘x.zip’\n",
            "\n",
            "x.zip               100%[===================>]   2.46M  --.-KB/s    in 0.03s   \n",
            "\n",
            "2023-02-01 08:42:24 (88.2 MB/s) - ‘x.zip’ saved [2578164/2578164]\n",
            "\n",
            "--2023-02-01 08:42:24--  https://drive.google.com/uc?export=download&id=1_RIKfYvv6AuBmpeHZv1Nb3e5_qgpxRh0\n",
            "Resolving drive.google.com (drive.google.com)... 74.125.69.100, 74.125.69.138, 74.125.69.139, ...\n",
            "Connecting to drive.google.com (drive.google.com)|74.125.69.100|:443... connected.\n",
            "HTTP request sent, awaiting response... 303 See Other\n",
            "Location: https://doc-04-80-docs.googleusercontent.com/docs/securesc/ha0ro937gcuc7l7deffksulhg5h7mbp1/kalvbpu4hoj5nr21t5mp841mvlggja9u/1675240875000/00806258749903615801/*/1_RIKfYvv6AuBmpeHZv1Nb3e5_qgpxRh0?e=download&uuid=e75172c6-d8a6-4b72-934d-391eeb265843 [following]\n",
            "Warning: wildcards not supported in HTTP.\n",
            "--2023-02-01 08:42:24--  https://doc-04-80-docs.googleusercontent.com/docs/securesc/ha0ro937gcuc7l7deffksulhg5h7mbp1/kalvbpu4hoj5nr21t5mp841mvlggja9u/1675240875000/00806258749903615801/*/1_RIKfYvv6AuBmpeHZv1Nb3e5_qgpxRh0?e=download&uuid=e75172c6-d8a6-4b72-934d-391eeb265843\n",
            "Resolving doc-04-80-docs.googleusercontent.com (doc-04-80-docs.googleusercontent.com)... 74.125.70.132, 2607:f8b0:4001:c02::84\n",
            "Connecting to doc-04-80-docs.googleusercontent.com (doc-04-80-docs.googleusercontent.com)|74.125.70.132|:443... connected.\n",
            "HTTP request sent, awaiting response... 200 OK\n",
            "Length: 7943 (7.8K) [application/x-zip]\n",
            "Saving to: ‘equal.pth’\n",
            "\n",
            "equal.pth           100%[===================>]   7.76K  --.-KB/s    in 0s      \n",
            "\n",
            "2023-02-01 08:42:25 (71.7 MB/s) - ‘equal.pth’ saved [7943/7943]\n",
            "\n"
          ]
        }
      ]
    },
    {
      "cell_type": "code",
      "source": [
        "# Reshaping\n",
        "\n",
        "y_real_t = torch.Tensor(y_real).reshape(-1,1)\n",
        "y_imag_t = torch.Tensor(y_imag).reshape(-1,1)\n",
        "Y = torch.stack((y_real_t, y_imag_t), -1)"
      ],
      "metadata": {
        "id": "EObslm9kef8s"
      },
      "execution_count": 4,
      "outputs": []
    },
    {
      "cell_type": "code",
      "source": [
        "# Define nonlinear NN for equalizer\n",
        "\n",
        "class NonlinEq(nn.Module):\n",
        "    def __init__(self):\n",
        "        super().__init__()\n",
        "        self.lin1 = nn.Linear(2, 50)\n",
        "        self.relu1 = nn.ReLU()\n",
        "        self.lin2 = nn.Linear(50, 20)\n",
        "        self.relu2 = nn.ReLU()\n",
        "        self.lin3 = nn.Linear(20,2)\n",
        "\n",
        "    def forward(self, y):\n",
        "        y = self.relu1(self.lin1(y))\n",
        "        y = self.relu2(self.lin2(y))\n",
        "        return self.lin3(y)[::2]"
      ],
      "metadata": {
        "id": "Nu0i7R1beivi"
      },
      "execution_count": 5,
      "outputs": []
    },
    {
      "cell_type": "code",
      "source": [
        "# Convert y_eq in two arrays so that it can be plot\n",
        "\n",
        "nleq = torch.load('equal.pth')\n",
        "y_eq = nleq(Y)\n",
        "yeq = y_eq.detach().numpy()\n",
        "yeq=yeq[:,0,:]\n",
        "yeq_real = yeq[:,0]\n",
        "yeq_imag = yeq[:,1]"
      ],
      "metadata": {
        "id": "TkzpPWVGelYU"
      },
      "execution_count": 6,
      "outputs": []
    },
    {
      "cell_type": "code",
      "source": [
        "# Calculate σ^2\n",
        "\n",
        "sum = 0\n",
        "for j in range(len(x)-1):\n",
        "    a = (yeq_real[j], yeq_imag[j])\n",
        "    b = (x_real[j], x_imag[j])\n",
        "    dst = distance.euclidean(a, b)\n",
        "    sum = sum + dst**2\n",
        "\n",
        "sigma_s = sum/len(x)"
      ],
      "metadata": {
        "id": "Ezu64iO-eofL"
      },
      "execution_count": 8,
      "outputs": []
    },
    {
      "cell_type": "code",
      "source": [
        "# Create a list with the 16 different mapped symbols\n",
        "\n",
        "map_sym = list(dict.fromkeys(x))"
      ],
      "metadata": {
        "id": "-9M0yu8agHrQ"
      },
      "execution_count": 9,
      "outputs": []
    },
    {
      "cell_type": "code",
      "source": [
        "# Calculate posteriori probabilities (divide p file to small batches)\n",
        "\n",
        "p_o = np.zeros((400000, len(map_sym)))\n",
        "\n",
        "for j in range(400000):\n",
        "    den = 0\n",
        "    a = (yeq_real[j], yeq_imag[j])\n",
        "    for k in range(len(map_sym)):\n",
        "        c = map_sym[k]\n",
        "        dist = distance.euclidean(a, c)\n",
        "        den = den + math.exp(-(dist**2)/(2*sigma_s))\n",
        "    for i in range(len(map_sym)):\n",
        "        b = map_sym[i]\n",
        "        dst = distance.euclidean(a, b)\n",
        "        num = math.exp(-(dst**2)/(2*sigma_s))\n",
        "\n",
        "        p_o[j][i] = num/den"
      ],
      "metadata": {
        "id": "aaIwbuhUewea"
      },
      "execution_count": 10,
      "outputs": []
    },
    {
      "cell_type": "code",
      "source": [
        "p_tw = np.zeros((400000, len(map_sym)))\n",
        "\n",
        "for j in range(400000,800000):\n",
        "    den = 0\n",
        "    a = (yeq_real[j], yeq_imag[j])\n",
        "    for k in range(len(map_sym)):\n",
        "        c = map_sym[k]\n",
        "        dist = distance.euclidean(a, c)\n",
        "        den = den + math.exp(-(dist**2)/(2*sigma_s))\n",
        "    for i in range(len(map_sym)):\n",
        "        b = map_sym[i]\n",
        "        dst = distance.euclidean(a, b)\n",
        "        num = math.exp(-(dst**2)/(2*sigma_s))\n",
        "\n",
        "        p_tw[j-400000][i] = num/den"
      ],
      "metadata": {
        "id": "MoOVdtbSHfxz"
      },
      "execution_count": 11,
      "outputs": []
    },
    {
      "cell_type": "code",
      "source": [
        "p_th = np.zeros((400000, len(map_sym)))\n",
        "\n",
        "for j in range(800000,1200000):\n",
        "    den = 0\n",
        "    a = (yeq_real[j], yeq_imag[j])\n",
        "    for k in range(len(map_sym)):\n",
        "        c = map_sym[k]\n",
        "        dist = distance.euclidean(a, c)\n",
        "        den = den + math.exp(-(dist**2)/(2*sigma_s))\n",
        "    for i in range(len(map_sym)):\n",
        "        b = map_sym[i]\n",
        "        dst = distance.euclidean(a, b)\n",
        "        num = math.exp(-(dst**2)/(2*sigma_s))\n",
        "\n",
        "        p_th[j-800000][i] = num/den"
      ],
      "metadata": {
        "id": "3xNRdutkH_8K"
      },
      "execution_count": 12,
      "outputs": []
    },
    {
      "cell_type": "code",
      "source": [
        "p_fo = np.zeros((400000, len(map_sym)))\n",
        "\n",
        "for j in range(1200000,1600000):\n",
        "    den = 0\n",
        "    a = (yeq_real[j], yeq_imag[j])\n",
        "    for k in range(len(map_sym)):\n",
        "        c = map_sym[k]\n",
        "        dist = distance.euclidean(a, c)\n",
        "        den = den + math.exp(-(dist**2)/(2*sigma_s))\n",
        "    for i in range(len(map_sym)):\n",
        "        b = map_sym[i]\n",
        "        dst = distance.euclidean(a, b)\n",
        "        num = math.exp(-(dst**2)/(2*sigma_s))\n",
        "\n",
        "        p_fo[j-1200000][i] = num/den"
      ],
      "metadata": {
        "id": "cJ_NPurtIIUN"
      },
      "execution_count": 13,
      "outputs": []
    },
    {
      "cell_type": "code",
      "source": [
        "p_fi = np.zeros((400000, len(map_sym)))\n",
        "\n",
        "for j in range(1600000,2000000):\n",
        "    den = 0\n",
        "    a = (yeq_real[j], yeq_imag[j])\n",
        "    for k in range(len(map_sym)):\n",
        "        c = map_sym[k]\n",
        "        dist = distance.euclidean(a, c)\n",
        "        den = den + math.exp(-(dist**2)/(2*sigma_s))\n",
        "    for i in range(len(map_sym)):\n",
        "        b = map_sym[i]\n",
        "        dst = distance.euclidean(a, b)\n",
        "        num = math.exp(-(dst**2)/(2*sigma_s))\n",
        "\n",
        "        p_fi[j-1600000][i] = num/den"
      ],
      "metadata": {
        "id": "a1u6qCf5IP7T"
      },
      "execution_count": 14,
      "outputs": []
    },
    {
      "cell_type": "code",
      "source": [
        "# Save result\n",
        "\n",
        "p_o.tofile('p_o.dat')\n",
        "p_tw.tofile('p_tw.dat')\n",
        "p_th.tofile('p_th.dat')\n",
        "p_fo.tofile('p_fo.dat')\n",
        "p_fi.tofile('p_fi.dat')"
      ],
      "metadata": {
        "id": "fjvKetGBfhCo"
      },
      "execution_count": 15,
      "outputs": []
    }
  ]
}