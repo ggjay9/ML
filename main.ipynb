{
  "cells": [
    {
      "cell_type": "markdown",
      "metadata": {
        "id": "_sCslKOdF_Al"
      },
      "source": [
        "# Initialization"
      ]
    },
    {
      "cell_type": "markdown",
      "metadata": {
        "id": "TsQ3OiyfGI7y"
      },
      "source": [
        "Load the signal y and target x from data.zip. Display\n",
        "a scatterplot of your received and target signal. Divide your data into\n",
        "training, validation and test dataset."
      ]
    },
    {
      "cell_type": "code",
      "execution_count": 1,
      "metadata": {
        "id": "bLknFhhmF2SA"
      },
      "outputs": [],
      "source": [
        "import numpy as np\n",
        "import matplotlib.pyplot as plt\n",
        "from zipfile import ZipFile\n",
        "import math\n",
        "import re\n",
        "import pickle\n",
        "import torch\n",
        "from torch import nn, optim\n",
        "from sklearn.model_selection import train_test_split\n",
        "from scipy.spatial import distance\n",
        "#from google.colab import drive\n",
        "#drive.mount('/content/drive')"
      ]
    },
    {
      "cell_type": "code",
      "source": [
        "!wget -O p_o.dat \"https://drive.google.com/uc?export=download&id=1wTA_tEUIPN-k-KJLQjROZri1MzHeJl0U\"\n",
        "!wget -O p_tw.dat \"https://drive.google.com/uc?export=download&id=1OAwifAlazVRwsXXvB5HCwtfmFL9e-QJQ\"\n",
        "!wget -O p_th.dat \"https://drive.google.com/uc?export=download&id=1w7m07ZYn4sSOV4SimV9wDqb80zJU_7GW\"\n",
        "!wget -O p_fo.dat \"https://drive.google.com/uc?export=download&id=1SFfYDLxSUl78-LAk5q9tYYb4wHHxL4ZW\"\n",
        "!wget -O p_fi.dat \"https://drive.google.com/uc?export=download&id=1k5e_8KKHxqKmVwqjvhR1kEUCr5QRjxDX\""
      ],
      "metadata": {
        "colab": {
          "base_uri": "https://localhost:8080/"
        },
        "id": "S_iyblB3HXkM",
        "outputId": "b0b28a83-e6bd-4aed-c0ca-71221c554485"
      },
      "execution_count": 2,
      "outputs": [
        {
          "output_type": "stream",
          "name": "stdout",
          "text": [
            "--2023-02-01 10:17:35--  https://drive.google.com/uc?export=download&id=1wTA_tEUIPN-k-KJLQjROZri1MzHeJl0U\n",
            "Resolving drive.google.com (drive.google.com)... 108.177.12.101, 108.177.12.138, 108.177.12.139, ...\n",
            "Connecting to drive.google.com (drive.google.com)|108.177.12.101|:443... connected.\n",
            "HTTP request sent, awaiting response... 303 See Other\n",
            "Location: https://doc-04-80-docs.googleusercontent.com/docs/securesc/ha0ro937gcuc7l7deffksulhg5h7mbp1/utdsjjpm429sghrg4hugo3rdp4nks2d9/1675246650000/00806258749903615801/*/1wTA_tEUIPN-k-KJLQjROZri1MzHeJl0U?e=download&uuid=ee1d5ff6-5a8e-4064-8475-9d48308420bc [following]\n",
            "Warning: wildcards not supported in HTTP.\n",
            "--2023-02-01 10:17:38--  https://doc-04-80-docs.googleusercontent.com/docs/securesc/ha0ro937gcuc7l7deffksulhg5h7mbp1/utdsjjpm429sghrg4hugo3rdp4nks2d9/1675246650000/00806258749903615801/*/1wTA_tEUIPN-k-KJLQjROZri1MzHeJl0U?e=download&uuid=ee1d5ff6-5a8e-4064-8475-9d48308420bc\n",
            "Resolving doc-04-80-docs.googleusercontent.com (doc-04-80-docs.googleusercontent.com)... 173.194.210.132, 2607:f8b0:400c:c0f::84\n",
            "Connecting to doc-04-80-docs.googleusercontent.com (doc-04-80-docs.googleusercontent.com)|173.194.210.132|:443... connected.\n",
            "HTTP request sent, awaiting response... 200 OK\n",
            "Length: 51200000 (49M) [application/octet-stream]\n",
            "Saving to: ‘p_o.dat’\n",
            "\n",
            "p_o.dat             100%[===================>]  48.83M  75.0MB/s    in 0.7s    \n",
            "\n",
            "2023-02-01 10:17:39 (75.0 MB/s) - ‘p_o.dat’ saved [51200000/51200000]\n",
            "\n",
            "--2023-02-01 10:17:39--  https://drive.google.com/uc?export=download&id=1OAwifAlazVRwsXXvB5HCwtfmFL9e-QJQ\n",
            "Resolving drive.google.com (drive.google.com)... 108.177.12.101, 108.177.12.138, 108.177.12.139, ...\n",
            "Connecting to drive.google.com (drive.google.com)|108.177.12.101|:443... connected.\n",
            "HTTP request sent, awaiting response... 303 See Other\n",
            "Location: https://doc-10-80-docs.googleusercontent.com/docs/securesc/ha0ro937gcuc7l7deffksulhg5h7mbp1/n6g95j25ljsr1mcqqe0m8u0fcbmvre0c/1675246650000/00806258749903615801/*/1OAwifAlazVRwsXXvB5HCwtfmFL9e-QJQ?e=download&uuid=7f0e3785-2c0b-4c52-987d-5a4913e9739e [following]\n",
            "Warning: wildcards not supported in HTTP.\n",
            "--2023-02-01 10:17:40--  https://doc-10-80-docs.googleusercontent.com/docs/securesc/ha0ro937gcuc7l7deffksulhg5h7mbp1/n6g95j25ljsr1mcqqe0m8u0fcbmvre0c/1675246650000/00806258749903615801/*/1OAwifAlazVRwsXXvB5HCwtfmFL9e-QJQ?e=download&uuid=7f0e3785-2c0b-4c52-987d-5a4913e9739e\n",
            "Resolving doc-10-80-docs.googleusercontent.com (doc-10-80-docs.googleusercontent.com)... 173.194.210.132, 2607:f8b0:400c:c0f::84\n",
            "Connecting to doc-10-80-docs.googleusercontent.com (doc-10-80-docs.googleusercontent.com)|173.194.210.132|:443... connected.\n",
            "HTTP request sent, awaiting response... 200 OK\n",
            "Length: 51200000 (49M) [application/octet-stream]\n",
            "Saving to: ‘p_tw.dat’\n",
            "\n",
            "p_tw.dat            100%[===================>]  48.83M  84.7MB/s    in 0.6s    \n",
            "\n",
            "2023-02-01 10:17:41 (84.7 MB/s) - ‘p_tw.dat’ saved [51200000/51200000]\n",
            "\n",
            "--2023-02-01 10:17:41--  https://drive.google.com/uc?export=download&id=1w7m07ZYn4sSOV4SimV9wDqb80zJU_7GW\n",
            "Resolving drive.google.com (drive.google.com)... 108.177.12.101, 108.177.12.138, 108.177.12.139, ...\n",
            "Connecting to drive.google.com (drive.google.com)|108.177.12.101|:443... connected.\n",
            "HTTP request sent, awaiting response... 303 See Other\n",
            "Location: https://doc-08-80-docs.googleusercontent.com/docs/securesc/ha0ro937gcuc7l7deffksulhg5h7mbp1/37m28ipih5hs2kr3itmtfk3l7mevpqiu/1675246650000/00806258749903615801/*/1w7m07ZYn4sSOV4SimV9wDqb80zJU_7GW?e=download&uuid=1d0d49d7-ac75-4660-95c0-4089fd299e21 [following]\n",
            "Warning: wildcards not supported in HTTP.\n",
            "--2023-02-01 10:17:43--  https://doc-08-80-docs.googleusercontent.com/docs/securesc/ha0ro937gcuc7l7deffksulhg5h7mbp1/37m28ipih5hs2kr3itmtfk3l7mevpqiu/1675246650000/00806258749903615801/*/1w7m07ZYn4sSOV4SimV9wDqb80zJU_7GW?e=download&uuid=1d0d49d7-ac75-4660-95c0-4089fd299e21\n",
            "Resolving doc-08-80-docs.googleusercontent.com (doc-08-80-docs.googleusercontent.com)... 173.194.210.132, 2607:f8b0:400c:c0f::84\n",
            "Connecting to doc-08-80-docs.googleusercontent.com (doc-08-80-docs.googleusercontent.com)|173.194.210.132|:443... connected.\n",
            "HTTP request sent, awaiting response... 200 OK\n",
            "Length: 51200000 (49M) [application/octet-stream]\n",
            "Saving to: ‘p_th.dat’\n",
            "\n",
            "p_th.dat            100%[===================>]  48.83M  29.6MB/s    in 1.7s    \n",
            "\n",
            "2023-02-01 10:17:45 (29.6 MB/s) - ‘p_th.dat’ saved [51200000/51200000]\n",
            "\n",
            "--2023-02-01 10:17:45--  https://drive.google.com/uc?export=download&id=1SFfYDLxSUl78-LAk5q9tYYb4wHHxL4ZW\n",
            "Resolving drive.google.com (drive.google.com)... 108.177.12.101, 108.177.12.138, 108.177.12.139, ...\n",
            "Connecting to drive.google.com (drive.google.com)|108.177.12.101|:443... connected.\n",
            "HTTP request sent, awaiting response... 303 See Other\n",
            "Location: https://doc-0c-80-docs.googleusercontent.com/docs/securesc/ha0ro937gcuc7l7deffksulhg5h7mbp1/q93es0lnjq5tcq5vu0t189n4l82vrbjc/1675246650000/00806258749903615801/*/1SFfYDLxSUl78-LAk5q9tYYb4wHHxL4ZW?e=download&uuid=53168bf7-d724-4b5c-b2fe-6d8c9d96620d [following]\n",
            "Warning: wildcards not supported in HTTP.\n",
            "--2023-02-01 10:17:47--  https://doc-0c-80-docs.googleusercontent.com/docs/securesc/ha0ro937gcuc7l7deffksulhg5h7mbp1/q93es0lnjq5tcq5vu0t189n4l82vrbjc/1675246650000/00806258749903615801/*/1SFfYDLxSUl78-LAk5q9tYYb4wHHxL4ZW?e=download&uuid=53168bf7-d724-4b5c-b2fe-6d8c9d96620d\n",
            "Resolving doc-0c-80-docs.googleusercontent.com (doc-0c-80-docs.googleusercontent.com)... 173.194.210.132, 2607:f8b0:400c:c0f::84\n",
            "Connecting to doc-0c-80-docs.googleusercontent.com (doc-0c-80-docs.googleusercontent.com)|173.194.210.132|:443... connected.\n",
            "HTTP request sent, awaiting response... 200 OK\n",
            "Length: 51200000 (49M) [application/octet-stream]\n",
            "Saving to: ‘p_fo.dat’\n",
            "\n",
            "p_fo.dat            100%[===================>]  48.83M  79.5MB/s    in 0.6s    \n",
            "\n",
            "2023-02-01 10:17:48 (79.5 MB/s) - ‘p_fo.dat’ saved [51200000/51200000]\n",
            "\n",
            "--2023-02-01 10:17:48--  https://drive.google.com/uc?export=download&id=1k5e_8KKHxqKmVwqjvhR1kEUCr5QRjxDX\n",
            "Resolving drive.google.com (drive.google.com)... 108.177.12.101, 108.177.12.138, 108.177.12.139, ...\n",
            "Connecting to drive.google.com (drive.google.com)|108.177.12.101|:443... connected.\n",
            "HTTP request sent, awaiting response... 303 See Other\n",
            "Location: https://doc-0c-80-docs.googleusercontent.com/docs/securesc/ha0ro937gcuc7l7deffksulhg5h7mbp1/j850eo26fv7lu9ef25i676tobiff1jv9/1675246650000/00806258749903615801/*/1k5e_8KKHxqKmVwqjvhR1kEUCr5QRjxDX?e=download&uuid=66138366-7284-41d9-8fb3-0d80e75c8bc7 [following]\n",
            "Warning: wildcards not supported in HTTP.\n",
            "--2023-02-01 10:17:50--  https://doc-0c-80-docs.googleusercontent.com/docs/securesc/ha0ro937gcuc7l7deffksulhg5h7mbp1/j850eo26fv7lu9ef25i676tobiff1jv9/1675246650000/00806258749903615801/*/1k5e_8KKHxqKmVwqjvhR1kEUCr5QRjxDX?e=download&uuid=66138366-7284-41d9-8fb3-0d80e75c8bc7\n",
            "Resolving doc-0c-80-docs.googleusercontent.com (doc-0c-80-docs.googleusercontent.com)... 173.194.210.132, 2607:f8b0:400c:c0f::84\n",
            "Connecting to doc-0c-80-docs.googleusercontent.com (doc-0c-80-docs.googleusercontent.com)|173.194.210.132|:443... connected.\n",
            "HTTP request sent, awaiting response... 200 OK\n",
            "Length: 51200000 (49M) [application/octet-stream]\n",
            "Saving to: ‘p_fi.dat’\n",
            "\n",
            "p_fi.dat            100%[===================>]  48.83M  70.6MB/s    in 0.7s    \n",
            "\n",
            "2023-02-01 10:17:51 (70.6 MB/s) - ‘p_fi.dat’ saved [51200000/51200000]\n",
            "\n"
          ]
        }
      ]
    },
    {
      "cell_type": "code",
      "execution_count": 3,
      "metadata": {
        "colab": {
          "base_uri": "https://localhost:8080/"
        },
        "id": "OfJ8qvOaGoQh",
        "outputId": "3f649966-7d70-4a7a-f999-2a05112f73f4"
      },
      "outputs": [
        {
          "output_type": "stream",
          "name": "stdout",
          "text": [
            "--2023-02-01 10:17:51--  https://drive.google.com/uc?export=download&id=1221858Ognjuffo3Pv6QezSiBw8xBOBe-\n",
            "Resolving drive.google.com (drive.google.com)... 108.177.12.101, 108.177.12.138, 108.177.12.139, ...\n",
            "Connecting to drive.google.com (drive.google.com)|108.177.12.101|:443... connected.\n",
            "HTTP request sent, awaiting response... 303 See Other\n",
            "Location: https://doc-0s-80-docs.googleusercontent.com/docs/securesc/ha0ro937gcuc7l7deffksulhg5h7mbp1/8jdphr3491rv537fe0n34md5virqrbqd/1675246650000/00806258749903615801/*/1221858Ognjuffo3Pv6QezSiBw8xBOBe-?e=download&uuid=d9bea790-7e22-4675-a264-d236f2281d15 [following]\n",
            "Warning: wildcards not supported in HTTP.\n",
            "--2023-02-01 10:17:57--  https://doc-0s-80-docs.googleusercontent.com/docs/securesc/ha0ro937gcuc7l7deffksulhg5h7mbp1/8jdphr3491rv537fe0n34md5virqrbqd/1675246650000/00806258749903615801/*/1221858Ognjuffo3Pv6QezSiBw8xBOBe-?e=download&uuid=d9bea790-7e22-4675-a264-d236f2281d15\n",
            "Resolving doc-0s-80-docs.googleusercontent.com (doc-0s-80-docs.googleusercontent.com)... 173.194.210.132, 2607:f8b0:400c:c0f::84\n",
            "Connecting to doc-0s-80-docs.googleusercontent.com (doc-0s-80-docs.googleusercontent.com)|173.194.210.132|:443... connected.\n",
            "HTTP request sent, awaiting response... 200 OK\n",
            "Length: 2578164 (2.5M) [application/x-zip-compressed]\n",
            "Saving to: ‘x.zip’\n",
            "\n",
            "x.zip               100%[===================>]   2.46M  --.-KB/s    in 0.02s   \n",
            "\n",
            "2023-02-01 10:17:57 (138 MB/s) - ‘x.zip’ saved [2578164/2578164]\n",
            "\n",
            "--2023-02-01 10:17:57--  https://drive.google.com/uc?export=download&id=1u5TAN-nRjHoAQ02J5-3o3Yr53m66Vw56\n",
            "Resolving drive.google.com (drive.google.com)... 108.177.12.101, 108.177.12.138, 108.177.12.139, ...\n",
            "Connecting to drive.google.com (drive.google.com)|108.177.12.101|:443... connected.\n",
            "HTTP request sent, awaiting response... 303 See Other\n",
            "Location: https://doc-14-80-docs.googleusercontent.com/docs/securesc/ha0ro937gcuc7l7deffksulhg5h7mbp1/p66l8pgmn0qpv5bha2e32bur4phs2cc1/1675246650000/00806258749903615801/*/1u5TAN-nRjHoAQ02J5-3o3Yr53m66Vw56?e=download&uuid=f923124e-43cc-4582-b71f-5086c5f9544f [following]\n",
            "Warning: wildcards not supported in HTTP.\n",
            "--2023-02-01 10:17:58--  https://doc-14-80-docs.googleusercontent.com/docs/securesc/ha0ro937gcuc7l7deffksulhg5h7mbp1/p66l8pgmn0qpv5bha2e32bur4phs2cc1/1675246650000/00806258749903615801/*/1u5TAN-nRjHoAQ02J5-3o3Yr53m66Vw56?e=download&uuid=f923124e-43cc-4582-b71f-5086c5f9544f\n",
            "Resolving doc-14-80-docs.googleusercontent.com (doc-14-80-docs.googleusercontent.com)... 173.194.210.132, 2607:f8b0:400c:c0f::84\n",
            "Connecting to doc-14-80-docs.googleusercontent.com (doc-14-80-docs.googleusercontent.com)|173.194.210.132|:443... connected.\n",
            "HTTP request sent, awaiting response... 200 OK\n",
            "Length: 52000000 (50M) [text/plain]\n",
            "Saving to: ‘a.txt’\n",
            "\n",
            "a.txt               100%[===================>]  49.59M   140MB/s    in 0.4s    \n",
            "\n",
            "2023-02-01 10:17:59 (140 MB/s) - ‘a.txt’ saved [52000000/52000000]\n",
            "\n",
            "--2023-02-01 10:17:59--  https://drive.google.com/uc?export=download&id=1_RIKfYvv6AuBmpeHZv1Nb3e5_qgpxRh0\n",
            "Resolving drive.google.com (drive.google.com)... 108.177.12.101, 108.177.12.138, 108.177.12.139, ...\n",
            "Connecting to drive.google.com (drive.google.com)|108.177.12.101|:443... connected.\n",
            "HTTP request sent, awaiting response... 303 See Other\n",
            "Location: https://doc-04-80-docs.googleusercontent.com/docs/securesc/ha0ro937gcuc7l7deffksulhg5h7mbp1/2viu2iqbm73bu0ornbnlsvrdu7rtt791/1675246650000/00806258749903615801/*/1_RIKfYvv6AuBmpeHZv1Nb3e5_qgpxRh0?e=download&uuid=5eed3507-5365-42bd-87f9-d77305c0e73f [following]\n",
            "Warning: wildcards not supported in HTTP.\n",
            "--2023-02-01 10:17:59--  https://doc-04-80-docs.googleusercontent.com/docs/securesc/ha0ro937gcuc7l7deffksulhg5h7mbp1/2viu2iqbm73bu0ornbnlsvrdu7rtt791/1675246650000/00806258749903615801/*/1_RIKfYvv6AuBmpeHZv1Nb3e5_qgpxRh0?e=download&uuid=5eed3507-5365-42bd-87f9-d77305c0e73f\n",
            "Resolving doc-04-80-docs.googleusercontent.com (doc-04-80-docs.googleusercontent.com)... 173.194.210.132, 2607:f8b0:400c:c0f::84\n",
            "Connecting to doc-04-80-docs.googleusercontent.com (doc-04-80-docs.googleusercontent.com)|173.194.210.132|:443... connected.\n",
            "HTTP request sent, awaiting response... 200 OK\n",
            "Length: 7943 (7.8K) [application/x-zip]\n",
            "Saving to: ‘equal.pth’\n",
            "\n",
            "equal.pth           100%[===================>]   7.76K  --.-KB/s    in 0s      \n",
            "\n",
            "2023-02-01 10:18:00 (54.7 MB/s) - ‘equal.pth’ saved [7943/7943]\n",
            "\n",
            "--2023-02-01 10:18:00--  https://drive.google.com/uc?export=download&id=14iAT_hqcGhVjhE4mjUfinbCcBUz2poD-\n",
            "Resolving drive.google.com (drive.google.com)... 108.177.12.101, 108.177.12.138, 108.177.12.139, ...\n",
            "Connecting to drive.google.com (drive.google.com)|108.177.12.101|:443... connected.\n",
            "HTTP request sent, awaiting response... 303 See Other\n",
            "Location: https://doc-08-80-docs.googleusercontent.com/docs/securesc/ha0ro937gcuc7l7deffksulhg5h7mbp1/sk6sshjiqm4mjnv7ho144s75q3vq1ker/1675246650000/00806258749903615801/*/14iAT_hqcGhVjhE4mjUfinbCcBUz2poD-?e=download&uuid=7ca40177-4587-4b5c-9a72-1ce89cc9cd31 [following]\n",
            "Warning: wildcards not supported in HTTP.\n",
            "--2023-02-01 10:18:00--  https://doc-08-80-docs.googleusercontent.com/docs/securesc/ha0ro937gcuc7l7deffksulhg5h7mbp1/sk6sshjiqm4mjnv7ho144s75q3vq1ker/1675246650000/00806258749903615801/*/14iAT_hqcGhVjhE4mjUfinbCcBUz2poD-?e=download&uuid=7ca40177-4587-4b5c-9a72-1ce89cc9cd31\n",
            "Resolving doc-08-80-docs.googleusercontent.com (doc-08-80-docs.googleusercontent.com)... 173.194.210.132, 2607:f8b0:400c:c0f::84\n",
            "Connecting to doc-08-80-docs.googleusercontent.com (doc-08-80-docs.googleusercontent.com)|173.194.210.132|:443... connected.\n",
            "HTTP request sent, awaiting response... 200 OK\n",
            "Length: 7093 (6.9K) [application/x-zip]\n",
            "Saving to: ‘last_batch.pt’\n",
            "\n",
            "last_batch.pt       100%[===================>]   6.93K  --.-KB/s    in 0s      \n",
            "\n",
            "2023-02-01 10:18:00 (49.6 MB/s) - ‘last_batch.pt’ saved [7093/7093]\n",
            "\n",
            "--2023-02-01 10:18:00--  https://drive.google.com/uc?export=download&id=1gAOBvvAhP7QO1Ol0Tc_QOnAStgy2tOic\n",
            "Resolving drive.google.com (drive.google.com)... 108.177.12.101, 108.177.12.138, 108.177.12.139, ...\n",
            "Connecting to drive.google.com (drive.google.com)|108.177.12.101|:443... connected.\n",
            "HTTP request sent, awaiting response... 303 See Other\n",
            "Location: https://doc-0o-80-docs.googleusercontent.com/docs/securesc/ha0ro937gcuc7l7deffksulhg5h7mbp1/ls6348rp5sg2c4pmg6pcfbhofhuqmikn/1675246650000/00806258749903615801/*/1gAOBvvAhP7QO1Ol0Tc_QOnAStgy2tOic?e=download&uuid=1d0f593b-1270-4386-9f61-2cbce9b8164c [following]\n",
            "Warning: wildcards not supported in HTTP.\n",
            "--2023-02-01 10:18:00--  https://doc-0o-80-docs.googleusercontent.com/docs/securesc/ha0ro937gcuc7l7deffksulhg5h7mbp1/ls6348rp5sg2c4pmg6pcfbhofhuqmikn/1675246650000/00806258749903615801/*/1gAOBvvAhP7QO1Ol0Tc_QOnAStgy2tOic?e=download&uuid=1d0f593b-1270-4386-9f61-2cbce9b8164c\n",
            "Resolving doc-0o-80-docs.googleusercontent.com (doc-0o-80-docs.googleusercontent.com)... 173.194.210.132, 2607:f8b0:400c:c0f::84\n",
            "Connecting to doc-0o-80-docs.googleusercontent.com (doc-0o-80-docs.googleusercontent.com)|173.194.210.132|:443... connected.\n",
            "HTTP request sent, awaiting response... 200 OK\n",
            "Length: 7015 (6.9K) [application/x-zip]\n",
            "Saving to: ‘val.pt’\n",
            "\n",
            "val.pt              100%[===================>]   6.85K  --.-KB/s    in 0s      \n",
            "\n",
            "2023-02-01 10:18:01 (25.9 MB/s) - ‘val.pt’ saved [7015/7015]\n",
            "\n",
            "--2023-02-01 10:18:01--  https://drive.google.com/uc?export=download&id=1QJ3QuSHQ01lWYjBqS4EVlNg7U29UNg3e\n",
            "Resolving drive.google.com (drive.google.com)... 108.177.12.101, 108.177.12.138, 108.177.12.139, ...\n",
            "Connecting to drive.google.com (drive.google.com)|108.177.12.101|:443... connected.\n",
            "HTTP request sent, awaiting response... 303 See Other\n",
            "Location: https://doc-14-80-docs.googleusercontent.com/docs/securesc/ha0ro937gcuc7l7deffksulhg5h7mbp1/ic7hjn82dkh1r1pf7aq6k0qn71k5reh3/1675246650000/00806258749903615801/*/1QJ3QuSHQ01lWYjBqS4EVlNg7U29UNg3e?e=download&uuid=42d029a9-4386-4078-9b8e-20940a78e5f0 [following]\n",
            "Warning: wildcards not supported in HTTP.\n",
            "--2023-02-01 10:18:02--  https://doc-14-80-docs.googleusercontent.com/docs/securesc/ha0ro937gcuc7l7deffksulhg5h7mbp1/ic7hjn82dkh1r1pf7aq6k0qn71k5reh3/1675246650000/00806258749903615801/*/1QJ3QuSHQ01lWYjBqS4EVlNg7U29UNg3e?e=download&uuid=42d029a9-4386-4078-9b8e-20940a78e5f0\n",
            "Resolving doc-14-80-docs.googleusercontent.com (doc-14-80-docs.googleusercontent.com)... 173.194.210.132, 2607:f8b0:400c:c0f::84\n",
            "Connecting to doc-14-80-docs.googleusercontent.com (doc-14-80-docs.googleusercontent.com)|173.194.210.132|:443... connected.\n",
            "HTTP request sent, awaiting response... 200 OK\n",
            "Length: 38009310 (36M) [application/octet-stream]\n",
            "Saving to: ‘A_hat’\n",
            "\n",
            "A_hat               100%[===================>]  36.25M   116MB/s    in 0.3s    \n",
            "\n",
            "2023-02-01 10:18:03 (116 MB/s) - ‘A_hat’ saved [38009310/38009310]\n",
            "\n",
            "--2023-02-01 10:18:03--  https://drive.google.com/uc?export=download&id=1fDwJIjj4dgKcG4X2abBuTpNlqSkCXFKZ\n",
            "Resolving drive.google.com (drive.google.com)... 108.177.12.101, 108.177.12.138, 108.177.12.139, ...\n",
            "Connecting to drive.google.com (drive.google.com)|108.177.12.101|:443... connected.\n",
            "HTTP request sent, awaiting response... 303 See Other\n",
            "Location: https://doc-00-80-docs.googleusercontent.com/docs/securesc/ha0ro937gcuc7l7deffksulhg5h7mbp1/qh5blj2ngjaom2rh52jkbnev6vvpjmg4/1675246650000/00806258749903615801/*/1fDwJIjj4dgKcG4X2abBuTpNlqSkCXFKZ?e=download&uuid=3342a3bf-c525-44b3-9dfb-c0daf17c77b9 [following]\n",
            "Warning: wildcards not supported in HTTP.\n",
            "--2023-02-01 10:18:03--  https://doc-00-80-docs.googleusercontent.com/docs/securesc/ha0ro937gcuc7l7deffksulhg5h7mbp1/qh5blj2ngjaom2rh52jkbnev6vvpjmg4/1675246650000/00806258749903615801/*/1fDwJIjj4dgKcG4X2abBuTpNlqSkCXFKZ?e=download&uuid=3342a3bf-c525-44b3-9dfb-c0daf17c77b9\n",
            "Resolving doc-00-80-docs.googleusercontent.com (doc-00-80-docs.googleusercontent.com)... 173.194.210.132, 2607:f8b0:400c:c0f::84\n",
            "Connecting to doc-00-80-docs.googleusercontent.com (doc-00-80-docs.googleusercontent.com)|173.194.210.132|:443... connected.\n",
            "HTTP request sent, awaiting response... 200 OK\n",
            "Length: 4004851 (3.8M) [application/octet-stream]\n",
            "Saving to: ‘X_hat’\n",
            "\n",
            "X_hat               100%[===================>]   3.82M  --.-KB/s    in 0.02s   \n",
            "\n",
            "2023-02-01 10:18:04 (178 MB/s) - ‘X_hat’ saved [4004851/4004851]\n",
            "\n",
            "--2023-02-01 10:18:04--  https://drive.google.com/uc?export=download&id=1PdHUuWRAFwu_oSlQA7-8opbvfUW-uRHF\n",
            "Resolving drive.google.com (drive.google.com)... 108.177.12.101, 108.177.12.138, 108.177.12.139, ...\n",
            "Connecting to drive.google.com (drive.google.com)|108.177.12.101|:443... connected.\n",
            "HTTP request sent, awaiting response... 303 See Other\n",
            "Location: https://doc-0o-80-docs.googleusercontent.com/docs/securesc/ha0ro937gcuc7l7deffksulhg5h7mbp1/k861bu7mvpp7viavoaoscf8p8rd8ekr9/1675246650000/00806258749903615801/*/1PdHUuWRAFwu_oSlQA7-8opbvfUW-uRHF?e=download&uuid=cf64380c-9b15-4c80-95f0-84bfe0c10803 [following]\n",
            "Warning: wildcards not supported in HTTP.\n",
            "--2023-02-01 10:18:04--  https://doc-0o-80-docs.googleusercontent.com/docs/securesc/ha0ro937gcuc7l7deffksulhg5h7mbp1/k861bu7mvpp7viavoaoscf8p8rd8ekr9/1675246650000/00806258749903615801/*/1PdHUuWRAFwu_oSlQA7-8opbvfUW-uRHF?e=download&uuid=cf64380c-9b15-4c80-95f0-84bfe0c10803\n",
            "Resolving doc-0o-80-docs.googleusercontent.com (doc-0o-80-docs.googleusercontent.com)... 173.194.210.132, 2607:f8b0:400c:c0f::84\n",
            "Connecting to doc-0o-80-docs.googleusercontent.com (doc-0o-80-docs.googleusercontent.com)|173.194.210.132|:443... connected.\n",
            "HTTP request sent, awaiting response... 200 OK\n",
            "Length: 7951 (7.8K) [application/x-zip]\n",
            "Saving to: ‘equal1.pth’\n",
            "\n",
            "equal1.pth          100%[===================>]   7.76K  --.-KB/s    in 0s      \n",
            "\n",
            "2023-02-01 10:18:05 (50.5 MB/s) - ‘equal1.pth’ saved [7951/7951]\n",
            "\n",
            "--2023-02-01 10:18:05--  https://drive.google.com/uc?export=download&id=1ZuCvUqbxX8hxUPDLVycLk7G-4caZ252U\n",
            "Resolving drive.google.com (drive.google.com)... 108.177.12.100, 108.177.12.101, 108.177.12.113, ...\n",
            "Connecting to drive.google.com (drive.google.com)|108.177.12.100|:443... connected.\n",
            "HTTP request sent, awaiting response... 303 See Other\n",
            "Location: https://doc-0k-80-docs.googleusercontent.com/docs/securesc/ha0ro937gcuc7l7deffksulhg5h7mbp1/irb27hamt1ocfrjc91pkat7od3r06d06/1675246650000/00806258749903615801/*/1ZuCvUqbxX8hxUPDLVycLk7G-4caZ252U?e=download&uuid=67fbe9ab-5582-46ff-842c-3907a72b7e7c [following]\n",
            "Warning: wildcards not supported in HTTP.\n",
            "--2023-02-01 10:18:05--  https://doc-0k-80-docs.googleusercontent.com/docs/securesc/ha0ro937gcuc7l7deffksulhg5h7mbp1/irb27hamt1ocfrjc91pkat7od3r06d06/1675246650000/00806258749903615801/*/1ZuCvUqbxX8hxUPDLVycLk7G-4caZ252U?e=download&uuid=67fbe9ab-5582-46ff-842c-3907a72b7e7c\n",
            "Resolving doc-0k-80-docs.googleusercontent.com (doc-0k-80-docs.googleusercontent.com)... 173.194.210.132, 2607:f8b0:400c:c0f::84\n",
            "Connecting to doc-0k-80-docs.googleusercontent.com (doc-0k-80-docs.googleusercontent.com)|173.194.210.132|:443... connected.\n",
            "HTTP request sent, awaiting response... 200 OK\n",
            "Length: 1695 (1.7K) [application/x-zip]\n",
            "Saving to: ‘demap.pth’\n",
            "\n",
            "demap.pth           100%[===================>]   1.66K  --.-KB/s    in 0s      \n",
            "\n",
            "2023-02-01 10:18:05 (69.3 MB/s) - ‘demap.pth’ saved [1695/1695]\n",
            "\n",
            "--2023-02-01 10:18:05--  https://drive.google.com/uc?export=download&id=1hbvau4XbxRlZ1vtQEoWK5N3ad2a6dyJB\n",
            "Resolving drive.google.com (drive.google.com)... 108.177.12.100, 108.177.12.101, 108.177.12.113, ...\n",
            "Connecting to drive.google.com (drive.google.com)|108.177.12.100|:443... connected.\n",
            "HTTP request sent, awaiting response... 303 See Other\n",
            "Location: https://doc-0k-80-docs.googleusercontent.com/docs/securesc/ha0ro937gcuc7l7deffksulhg5h7mbp1/3ao0697lrh5v21mlho1klsm32212gtcc/1675246650000/00806258749903615801/*/1hbvau4XbxRlZ1vtQEoWK5N3ad2a6dyJB?e=download&uuid=11abd88c-bc84-4733-ae8d-cd2527b13484 [following]\n",
            "Warning: wildcards not supported in HTTP.\n",
            "--2023-02-01 10:18:06--  https://doc-0k-80-docs.googleusercontent.com/docs/securesc/ha0ro937gcuc7l7deffksulhg5h7mbp1/3ao0697lrh5v21mlho1klsm32212gtcc/1675246650000/00806258749903615801/*/1hbvau4XbxRlZ1vtQEoWK5N3ad2a6dyJB?e=download&uuid=11abd88c-bc84-4733-ae8d-cd2527b13484\n",
            "Resolving doc-0k-80-docs.googleusercontent.com (doc-0k-80-docs.googleusercontent.com)... 173.194.210.132, 2607:f8b0:400c:c0f::84\n",
            "Connecting to doc-0k-80-docs.googleusercontent.com (doc-0k-80-docs.googleusercontent.com)|173.194.210.132|:443... connected.\n",
            "HTTP request sent, awaiting response... 200 OK\n",
            "Length: 10601 (10K) [application/x-zip]\n",
            "Saving to: ‘val1.pt’\n",
            "\n",
            "val1.pt             100%[===================>]  10.35K  --.-KB/s    in 0s      \n",
            "\n",
            "2023-02-01 10:18:06 (47.8 MB/s) - ‘val1.pt’ saved [10601/10601]\n",
            "\n",
            "--2023-02-01 10:18:06--  https://drive.google.com/uc?export=download&id=1JJrW2dy-I6Qqorsc6FGxxLwMJW7f_N-3\n",
            "Resolving drive.google.com (drive.google.com)... 108.177.12.100, 108.177.12.101, 108.177.12.113, ...\n",
            "Connecting to drive.google.com (drive.google.com)|108.177.12.100|:443... connected.\n",
            "HTTP request sent, awaiting response... 303 See Other\n",
            "Location: https://doc-0c-80-docs.googleusercontent.com/docs/securesc/ha0ro937gcuc7l7deffksulhg5h7mbp1/cu2eqvrhuf5uf8cuqaeg7gj8nardka12/1675246650000/00806258749903615801/*/1JJrW2dy-I6Qqorsc6FGxxLwMJW7f_N-3?e=download&uuid=05313821-9175-42f6-afc0-9c3de5e1987f [following]\n",
            "Warning: wildcards not supported in HTTP.\n",
            "--2023-02-01 10:18:06--  https://doc-0c-80-docs.googleusercontent.com/docs/securesc/ha0ro937gcuc7l7deffksulhg5h7mbp1/cu2eqvrhuf5uf8cuqaeg7gj8nardka12/1675246650000/00806258749903615801/*/1JJrW2dy-I6Qqorsc6FGxxLwMJW7f_N-3?e=download&uuid=05313821-9175-42f6-afc0-9c3de5e1987f\n",
            "Resolving doc-0c-80-docs.googleusercontent.com (doc-0c-80-docs.googleusercontent.com)... 173.194.210.132, 2607:f8b0:400c:c0f::84\n",
            "Connecting to doc-0c-80-docs.googleusercontent.com (doc-0c-80-docs.googleusercontent.com)|173.194.210.132|:443... connected.\n",
            "HTTP request sent, awaiting response... 200 OK\n",
            "Length: 10615 (10K) [application/x-zip]\n",
            "Saving to: ‘last_batch1.pt’\n",
            "\n",
            "last_batch1.pt      100%[===================>]  10.37K  --.-KB/s    in 0s      \n",
            "\n",
            "2023-02-01 10:18:07 (80.3 MB/s) - ‘last_batch1.pt’ saved [10615/10615]\n",
            "\n"
          ]
        }
      ],
      "source": [
        "# Import data\n",
        "\n",
        "!wget -O x.zip \"https://drive.google.com/uc?export=download&id=1221858Ognjuffo3Pv6QezSiBw8xBOBe-\"\n",
        "!wget -O a.txt \"https://drive.google.com/uc?export=download&id=1u5TAN-nRjHoAQ02J5-3o3Yr53m66Vw56\"\n",
        "!wget -O equal.pth \"https://drive.google.com/uc?export=download&id=1_RIKfYvv6AuBmpeHZv1Nb3e5_qgpxRh0\"\n",
        "!wget -O last_batch.pt \"https://drive.google.com/uc?export=download&id=14iAT_hqcGhVjhE4mjUfinbCcBUz2poD-\"\n",
        "!wget -O val.pt \"https://drive.google.com/uc?export=download&id=1gAOBvvAhP7QO1Ol0Tc_QOnAStgy2tOic\"\n",
        "!wget -O A_hat \"https://drive.google.com/uc?export=download&id=1QJ3QuSHQ01lWYjBqS4EVlNg7U29UNg3e\"\n",
        "!wget -O X_hat \"https://drive.google.com/uc?export=download&id=1fDwJIjj4dgKcG4X2abBuTpNlqSkCXFKZ\"\n",
        "!wget -O equal1.pth \"https://drive.google.com/uc?export=download&id=1PdHUuWRAFwu_oSlQA7-8opbvfUW-uRHF\"\n",
        "!wget -O demap.pth \"https://drive.google.com/uc?export=download&id=1ZuCvUqbxX8hxUPDLVycLk7G-4caZ252U\"\n",
        "!wget -O val1.pt \"https://drive.google.com/uc?export=download&id=1hbvau4XbxRlZ1vtQEoWK5N3ad2a6dyJB\"\n",
        "!wget -O last_batch1.pt \"https://drive.google.com/uc?export=download&id=1JJrW2dy-I6Qqorsc6FGxxLwMJW7f_N-3\""
      ]
    },
    {
      "cell_type": "code",
      "source": [
        "with ZipFile('/content/x.zip', 'r') as f:\n",
        "  f.extract('x.txt')"
      ],
      "metadata": {
        "id": "lKl1oUs091Gr"
      },
      "execution_count": 4,
      "outputs": []
    },
    {
      "cell_type": "code",
      "execution_count": 5,
      "metadata": {
        "id": "56xcp21xJAI7"
      },
      "outputs": [],
      "source": [
        "# Load data\n",
        "\n",
        "a = np.loadtxt('a.txt')\n",
        "a_t = torch.tensor(a)\n",
        "a_t = a_t.type(torch.LongTensor)\n",
        "\n",
        "x_real = []\n",
        "x_imag = []\n",
        "x = []\n",
        "with open('x.txt') as input_file:\n",
        "    for line in input_file:\n",
        "      temp = re.sub(r'[()]', \"\", line)\n",
        "      temp = complex(temp)\n",
        "      x.append((temp.real, temp.imag))\n",
        "      x_real.append(temp.real)\n",
        "      x_imag.append(temp.imag)\n",
        "\n",
        "y_real = []\n",
        "y_imag = []\n",
        "#with open('drive/MyDrive/y.txt') as input_file:\n",
        "with open('y.txt') as input_file:\n",
        "    for line in input_file:\n",
        "      temp = re.sub(r'[()]', \"\", line)\n",
        "      temp = complex(temp)\n",
        "      y_real.append(temp.real)\n",
        "      y_imag.append(temp.imag)"
      ]
    },
    {
      "cell_type": "code",
      "execution_count": 6,
      "metadata": {
        "colab": {
          "base_uri": "https://localhost:8080/",
          "height": 295
        },
        "id": "XGHEa2J9tNxf",
        "outputId": "e3967dd0-77b5-4e31-fc39-dd83ec3e549b"
      },
      "outputs": [
        {
          "output_type": "display_data",
          "data": {
            "text/plain": [
              "<Figure size 432x288 with 1 Axes>"
            ],
            "image/png": "[encoded data removed]"
          },
          "metadata": {
            "needs_background": "light"
          }
        }
      ],
      "source": [
        "# Scatterplot of target signal\n",
        "\n",
        "plt.scatter(x_real, x_imag)\n",
        "plt.title('Target signal')\n",
        "plt.xlabel('Real')\n",
        "plt.ylabel('Imaginary')\n",
        "plt.show()"
      ]
    },
    {
      "cell_type": "code",
      "execution_count": 7,
      "metadata": {
        "colab": {
          "base_uri": "https://localhost:8080/",
          "height": 0
        },
        "id": "z68TXN3vxOaG",
        "outputId": "7b3825ec-088a-4e8e-ceed-6bc1086456f6"
      },
      "outputs": [
        {
          "output_type": "display_data",
          "data": {
            "text/plain": [
              "<Figure size 432x288 with 1 Axes>"
            ],
            "image/png": "[encoded data removed]"
          },
          "metadata": {
            "needs_background": "light"
          }
        }
      ],
      "source": [
        "# Scatterplot of received signal\n",
        "\n",
        "plt.scatter(y_real, y_imag, label='Received symbols')\n",
        "plt.scatter(x_real, x_imag, label = 'Transmitted symbols')\n",
        "plt.title('Received signal')\n",
        "plt.xlabel('Real')\n",
        "plt.ylabel('Imaginary')\n",
        "plt.legend(loc='center left', bbox_to_anchor=(1, 0.5))\n",
        "plt.show()"
      ]
    },
    {
      "cell_type": "code",
      "execution_count": 8,
      "metadata": {
        "id": "z_aEwmDlywlJ"
      },
      "outputs": [],
      "source": [
        "# Conversion to TensorFlow\n",
        "\n",
        "x_real_t = torch.Tensor(x_real).reshape(-1,1)\n",
        "x_imag_t = torch.Tensor(x_imag).reshape(-1,1)\n",
        "X = torch.stack((x_real_t, x_imag_t), -1)\n",
        "\n",
        "y_real_t = torch.Tensor(y_real).reshape(-1,1)\n",
        "y_imag_t = torch.Tensor(y_imag).reshape(-1,1)\n",
        "Y = torch.stack((y_real_t, y_imag_t), -1)"
      ]
    },
    {
      "cell_type": "code",
      "execution_count": 9,
      "metadata": {
        "id": "IMc64-3Ex0Mm"
      },
      "outputs": [],
      "source": [
        "# Divide your data into training, validation and test dataset\n",
        "\n",
        "a_train, a_test =  train_test_split(a_t, test_size=0.2, shuffle=False)\n",
        "x_train, x_test =  train_test_split(X, test_size=0.2, shuffle=False)\n",
        "y_train, y_test =  train_test_split(Y, test_size=0.2, shuffle=False)\n",
        "\n",
        "a_val, a_test =  train_test_split(a_t, test_size=0.5, shuffle=False)\n",
        "x_val, x_test =  train_test_split(X, test_size=0.5, shuffle=False)\n",
        "y_val, y_test =  train_test_split(Y, test_size=0.5, shuffle=False)"
      ]
    },
    {
      "cell_type": "markdown",
      "metadata": {
        "id": "jKQvSpQxzcsj"
      },
      "source": [
        "# MSE training"
      ]
    },
    {
      "cell_type": "markdown",
      "metadata": {
        "id": "WlbMnLz0zmsh"
      },
      "source": [
        "Design and train a nonlinear neural network to equalize\n",
        "the received signal. Train your model according to MSE loss function.\n",
        "Display training vs validation loss for increasing number of epochs.\n",
        "After the training is over, display a scatterplot of yeq."
      ]
    },
    {
      "cell_type": "code",
      "execution_count": 10,
      "metadata": {
        "id": "pJejZ_AozrcW"
      },
      "outputs": [],
      "source": [
        "# Define nonlinear NN for equalizer\n",
        "\n",
        "class NonlinEq(nn.Module):\n",
        "    def __init__(self):\n",
        "        super().__init__()\n",
        "        self.lin1 = nn.Linear(2, 50)\n",
        "        self.relu1 = nn.ReLU()\n",
        "        self.lin2 = nn.Linear(50, 20)\n",
        "        self.relu2 = nn.ReLU()\n",
        "        self.lin3 = nn.Linear(20,2)\n",
        "\n",
        "    def forward(self, y):\n",
        "        y = self.relu1(self.lin1(y))\n",
        "        y = self.relu2(self.lin2(y))\n",
        "        return self.lin3(y)[::2]"
      ]
    },
    {
      "cell_type": "code",
      "source": [
        "# Load data calculate with Equalizer.ipynb\n",
        "\n",
        "loss_fn = nn.MSELoss()\n",
        "nleq = torch.load('equal.pth')\n",
        "loss_last_batch = torch.load('last_batch.pt')\n",
        "loss_val_set = torch.load('val.pt')"
      ],
      "metadata": {
        "id": "HUpUYJyOQmNR"
      },
      "execution_count": 11,
      "outputs": []
    },
    {
      "cell_type": "code",
      "execution_count": 12,
      "metadata": {
        "id": "kaAcjgJ6S4Mh"
      },
      "outputs": [],
      "source": [
        "# Calculate test loss \n",
        "loss_test = loss_fn(nleq(y_test), x_test).detach().numpy()"
      ]
    },
    {
      "cell_type": "code",
      "execution_count": 13,
      "metadata": {
        "colab": {
          "base_uri": "https://localhost:8080/",
          "height": 279
        },
        "id": "ER408pk9TbFe",
        "outputId": "99ba31e2-fa15-49f6-c51b-8b92d2908970"
      },
      "outputs": [
        {
          "output_type": "display_data",
          "data": {
            "text/plain": [
              "<Figure size 432x288 with 1 Axes>"
            ],
            "image/png": "[encoded data removed]"
          },
          "metadata": {
            "needs_background": "light"
          }
        }
      ],
      "source": [
        "# Plot training vs validation loss for increasing number of epochs\n",
        "\n",
        "plt.plot(np.arange(len(loss_last_batch)), loss_last_batch, label=\"Train\")\n",
        "plt.plot(np.arange(len(loss_val_set)), loss_val_set, label=\"Validation\")\n",
        "plt.plot(len(loss_val_set)-1, loss_test, marker='*', label=\"Test\")\n",
        "plt.xlabel('Epoch index')\n",
        "plt.ylabel('Loss')\n",
        "plt.legend()\n",
        "plt.grid()"
      ]
    },
    {
      "cell_type": "code",
      "execution_count": 14,
      "metadata": {
        "id": "hoxaQxfimL54"
      },
      "outputs": [],
      "source": [
        "# Convert y_eq in two arrays so that it can be plot\n",
        "\n",
        "y_eq = nleq(Y)\n",
        "yeq = y_eq.detach().numpy()\n",
        "yeq=yeq[:,0,:]\n",
        "yeq_real = yeq[:,0]\n",
        "yeq_imag = yeq[:,1]"
      ]
    },
    {
      "cell_type": "code",
      "execution_count": 15,
      "metadata": {
        "colab": {
          "base_uri": "https://localhost:8080/",
          "height": 295
        },
        "id": "vv6z9KoNVwT1",
        "outputId": "f2242f4f-c198-41cf-9c04-e37edd7eabe4"
      },
      "outputs": [
        {
          "output_type": "display_data",
          "data": {
            "text/plain": [
              "<Figure size 432x288 with 1 Axes>"
            ],
            "image/png": "[encoded data removed]"
          },
          "metadata": {
            "needs_background": "light"
          }
        }
      ],
      "source": [
        "# Scatterplot of the received signal after equalization\n",
        "\n",
        "plt.scatter(yeq_real, yeq_imag, label='Post-equalizer symbols')\n",
        "plt.scatter(x_real, x_imag, label = 'Transmitted symbols')\n",
        "plt.title('Nonlinear NN')\n",
        "plt.xlabel('Real')\n",
        "plt.ylabel('Imaginary')\n",
        "plt.legend(loc='center left', bbox_to_anchor=(1, 0.5))\n",
        "plt.grid()\n",
        "plt.show()"
      ]
    },
    {
      "cell_type": "markdown",
      "metadata": {
        "id": "-wiOdSIBrraC"
      },
      "source": [
        "# Hard-decision demapper"
      ]
    },
    {
      "cell_type": "markdown",
      "metadata": {
        "id": "G60xb34Wr0vy"
      },
      "source": [
        "Define a method to perform hard-decision\n",
        "(HD) demapping after the neural network equalizer. The demapper takes\n",
        "a decision according to the Euclidean distance:\n",
        "$$ \\widehat{x} = \\underset{x}{\\operatorname{argmin}} |y_{eq} - x|, x \\in \\mathcal{X} $$\n",
        "Apply the defined demapper to the equalizer output. What is the value\n",
        "of the symbol error rate (SER)?\n",
        "Apply binary reflected gray labeling to both your transmit symbol and\n",
        "output of the demapper. What is the value of the bit error rate (BER)?"
      ]
    },
    {
      "cell_type": "code",
      "execution_count": 16,
      "metadata": {
        "id": "ksHbquNnzYy3"
      },
      "outputs": [],
      "source": [
        "# Create a list with the 16 different mapped symbols\n",
        "\n",
        "map_sym = list(dict.fromkeys(x))"
      ]
    },
    {
      "cell_type": "code",
      "source": [
        "# Load data calculate with Hard_decision.ipynb\n",
        "\n",
        "with open(\"A_hat\", \"rb\") as fp:\n",
        "    A_hat = pickle.load(fp)\n",
        "with open(\"X_hat\", \"rb\") as fp:\n",
        "    X_hat = pickle.load(fp)"
      ],
      "metadata": {
        "id": "HBoYgUFybpqR"
      },
      "execution_count": 17,
      "outputs": []
    },
    {
      "cell_type": "code",
      "source": [
        "# Calculate SER\n",
        "\n",
        "counter = 0\n",
        "for j in range(len(x)):\n",
        "    if a[j] != A_hat[j]:\n",
        "        counter = counter + 1\n",
        "\n",
        "SER = counter/len(x)\n",
        "print(f'The SER with an hard-decision demapper is {SER}')"
      ],
      "metadata": {
        "colab": {
          "base_uri": "https://localhost:8080/"
        },
        "id": "tUbMVlZZALev",
        "outputId": "d57711f1-e844-42e6-ba86-442122c9f28c"
      },
      "execution_count": 18,
      "outputs": [
        {
          "output_type": "stream",
          "name": "stdout",
          "text": [
            "The SER with an hard-decision demapper is 0.020189\n"
          ]
        }
      ]
    },
    {
      "cell_type": "code",
      "source": [
        "# Binary combination for the 16 symbols\n",
        "\n",
        "def get_labeling(msg):\n",
        "    label = np.array([[0,0,0,0], [0,0,0,1], [0,0,1,1], [0,0,1,0], [0,1,1,0], [0,1,1,1], [0,1,0,1], [0,1,0,0],\n",
        "                     [1,0,0,0], [1,0,0,1], [1,0,1,1], [1,0,1,0], [1,1,1,0], [1,1,1,1], [1,1,0,1], [1,1,0,0]])\n",
        "    return label[msg, :]"
      ],
      "metadata": {
        "id": "AWpLfQeYtRU-"
      },
      "execution_count": 19,
      "outputs": []
    },
    {
      "cell_type": "code",
      "source": [
        "M = 16\n",
        "a_plot = np.arange(M)\n",
        "b_plot = get_labeling(a_plot)\n",
        "plt.scatter(x_real, x_imag)\n",
        "for i in range(M):\n",
        "    plt.annotate(f'{b_plot[i,:]}', map_sym[i])\n",
        "plt.title(f'Learned Constellation')\n",
        "plt.grid()\n",
        "plt.show()"
      ],
      "metadata": {
        "colab": {
          "base_uri": "https://localhost:8080/",
          "height": 281
        },
        "id": "AlGYoGnWzO-t",
        "outputId": "d1968211-bd17-4268-b656-bff4f1604f9c"
      },
      "execution_count": 20,
      "outputs": [
        {
          "output_type": "display_data",
          "data": {
            "text/plain": [
              "<Figure size 432x288 with 1 Axes>"
            ],
            "image/png": "[encoded data removed]"
          },
          "metadata": {
            "needs_background": "light"
          }
        }
      ]
    },
    {
      "cell_type": "code",
      "source": [
        "# Link every symbol with its binary code\n",
        "\n",
        "map = []\n",
        "for i in range(M):\n",
        "    map.append((b_plot[i,:], map_sym[i]))"
      ],
      "metadata": {
        "id": "UPjhV3sN4-Dp"
      },
      "execution_count": 21,
      "outputs": []
    },
    {
      "cell_type": "code",
      "source": [
        "# Assign the binary code to the trasmitted signal and the estimated one\n",
        "\n",
        "x_map = []\n",
        "X_hat_map = []\n",
        "for i in range(len(x)):\n",
        "    for j in range(len(map)):\n",
        "        if x[i] == map[j][1]:\n",
        "            x_map.append(map[j][0])\n",
        "        if X_hat[i] == map[j][1]:\n",
        "            X_hat_map.append(map[j][0])    "
      ],
      "metadata": {
        "id": "V0H966ym9RwB"
      },
      "execution_count": 22,
      "outputs": []
    },
    {
      "cell_type": "code",
      "source": [
        "# Check bit by bit and count the errors\n",
        "\n",
        "counter = 0\n",
        "for j in range(len(x)):\n",
        "    for i in range(4):\n",
        "        if x_map[j][i] != X_hat_map[j][i]:\n",
        "            counter = counter + 1\n",
        "\n",
        "BER = counter/(4*len(x))\n",
        "print(f'The BER with an hard-decision demapper is {BER}')"
      ],
      "metadata": {
        "colab": {
          "base_uri": "https://localhost:8080/"
        },
        "id": "cZcFRMd-_gIV",
        "outputId": "3ae373a0-c7a1-475a-dd92-3c648a69b868"
      },
      "execution_count": 23,
      "outputs": [
        {
          "output_type": "stream",
          "name": "stdout",
          "text": [
            "The BER with an hard-decision demapper is 0.011558625\n"
          ]
        }
      ]
    },
    {
      "cell_type": "code",
      "source": [
        "if BER > SER:\n",
        "    print('With hard-decision BER greater than SER')\n",
        "elif BER == SER:\n",
        "    print('With hard-decision BER equal to SER')\n",
        "else:\n",
        "    print('With hard-decision SER greater than BER')"
      ],
      "metadata": {
        "colab": {
          "base_uri": "https://localhost:8080/"
        },
        "id": "a17LgSE5_4tL",
        "outputId": "6e09aaba-9fc6-4cdd-e2b8-3c1233f77ce2"
      },
      "execution_count": 24,
      "outputs": [
        {
          "output_type": "stream",
          "name": "stdout",
          "text": [
            "With hard-decision SER greater than BER\n"
          ]
        }
      ]
    },
    {
      "cell_type": "markdown",
      "source": [
        "# Soft-decision demapper"
      ],
      "metadata": {
        "id": "bEH9o3zHD-6r"
      }
    },
    {
      "cell_type": "markdown",
      "source": [
        "Define a method to perform soft-decision\n",
        "(SD) demapping after the neural network equalizer according to AWGN\n",
        "demapper:\n",
        "$$ p_i = \\frac{e^{-\\frac{|y_{eq}−x_i|^2}{2σ^2}}}{\\sum_{k}^{|\\mathcal{X}|−1}e^{-\\frac{|y_{eq}−x_k|^2}{2σ^2}}}, i = 0, 1, ..., |\\mathcal{X}|−1 $$\n",
        "$$σ^2 = \\frac{1}{n}\\sum_{j=0}^{n-1}|y_{eq,j}−x_j|^2 $$\n",
        "Apply the defined SD demapper to the equalizer output. From the a\n",
        "posteriori probabilities calculate the estimate of the equivocation"
      ],
      "metadata": {
        "id": "eZDOE5SQEC-q"
      }
    },
    {
      "cell_type": "code",
      "source": [
        "# Load data calculate with Soft_decision.ipynb\n",
        "\n",
        "#p = np.fromfile('drive/MyDrive/p.dat', dtype=float)\n",
        "p_o = np.fromfile('p_o.dat', dtype=float)\n",
        "p_tw = np.fromfile('p_tw.dat', dtype=float)\n",
        "p_th = np.fromfile('p_th.dat', dtype=float)\n",
        "p_fo = np.fromfile('p_fo.dat', dtype=float)\n",
        "p_fi = np.fromfile('p_fi.dat', dtype=float)"
      ],
      "metadata": {
        "id": "E9CmWhIUgk89"
      },
      "execution_count": 25,
      "outputs": []
    },
    {
      "cell_type": "code",
      "source": [
        "p = np.concatenate((p_o,p_tw))\n",
        "p = np.concatenate((p,p_th))\n",
        "p = np.concatenate((p,p_fo))\n",
        "p = np.concatenate((p,p_fi))\n",
        "p = p.reshape(len(x), len(map_sym))"
      ],
      "metadata": {
        "id": "B_El6jzwL5Mp"
      },
      "execution_count": 26,
      "outputs": []
    },
    {
      "cell_type": "code",
      "source": [
        "# Maximum a posteriori probability\n",
        "\n",
        "soft_dec = []\n",
        "for j in range(len(x)):\n",
        "    max_index = np.where(p[j] == np.max(p[j]))\n",
        "    soft_dec.append(map_sym[int(max_index[0])])"
      ],
      "metadata": {
        "id": "9YKRiCmEfYca"
      },
      "execution_count": 27,
      "outputs": []
    },
    {
      "cell_type": "code",
      "source": [
        "counter = 0\n",
        "for j in range(len(x)):\n",
        "    if x[j] != soft_dec[j]:\n",
        "        counter = counter + 1\n",
        "\n",
        "SER = counter/len(x)\n",
        "print(f'The SER with MAP rule appield to a soft-decision demapper is {SER}')"
      ],
      "metadata": {
        "colab": {
          "base_uri": "https://localhost:8080/"
        },
        "id": "XeuNcTxiXzx7",
        "outputId": "3b601351-cabb-478e-bac0-da1257470b65"
      },
      "execution_count": 28,
      "outputs": [
        {
          "output_type": "stream",
          "name": "stdout",
          "text": [
            "The SER with MAP rule appield to a soft-decision demapper is 0.020189\n"
          ]
        }
      ]
    },
    {
      "cell_type": "code",
      "source": [
        "# Calculate empirical equivocation\n",
        "\n",
        "loss_fn = nn.CrossEntropyLoss()\n",
        "equivocation = loss_fn(torch.Tensor(p), a_t).detach().numpy()/np.log(2)\n",
        "print(f'The empirical equivocation is {equivocation}')"
      ],
      "metadata": {
        "colab": {
          "base_uri": "https://localhost:8080/"
        },
        "id": "2q0EiZMYBnTx",
        "outputId": "03d1a554-d5ab-4978-c9b1-4207aab4e0b3"
      },
      "execution_count": 29,
      "outputs": [
        {
          "output_type": "stream",
          "name": "stdout",
          "text": [
            "The empirical equivocation is 3.970679032811043\n"
          ]
        }
      ]
    },
    {
      "cell_type": "markdown",
      "source": [
        "# CE training"
      ],
      "metadata": {
        "id": "bSn8xBRQIBD7"
      }
    },
    {
      "cell_type": "markdown",
      "source": [
        "Design and train a nonlinear neural network which performs\n",
        "jointly equalization and demapping. Train your model according to the\n",
        "cross entropy (CE) loss function. Display training vs validation loss.\n",
        "After the training, calculate the SER, BER and estimate of the equivocation."
      ],
      "metadata": {
        "id": "hoqcXqKYIKNj"
      }
    },
    {
      "cell_type": "code",
      "source": [
        "# Define nonlinear NN for equalizer\n",
        "\n",
        "class NonlinEq(nn.Module):\n",
        "    def __init__(self):\n",
        "        super().__init__()\n",
        "        self.lin1 = nn.Linear(2, 50)\n",
        "        self.relu1 = nn.ReLU()\n",
        "        self.lin2 = nn.Linear(50, 20)\n",
        "        self.relu2 = nn.ReLU()\n",
        "        self.lin3 = nn.Linear(20, 2)\n",
        "\n",
        "    def forward(self, y):\n",
        "        y = self.relu1(self.lin1(y))\n",
        "        y = self.relu2(self.lin2(y))\n",
        "        return self.lin3(y)[::2]"
      ],
      "metadata": {
        "id": "U24VNZK-H_UW"
      },
      "execution_count": 30,
      "outputs": []
    },
    {
      "cell_type": "code",
      "source": [
        "# Define linear NN for Demapping\n",
        "\n",
        "class Demapper(nn.Module):\n",
        "    def __init__(self):\n",
        "        super().__init__()\n",
        "        self.out = nn.Linear(2, 16)\n",
        "\n",
        "    def forward(self, y):\n",
        "        return self.out(y)"
      ],
      "metadata": {
        "id": "3NFK3AB-uoiK"
      },
      "execution_count": 31,
      "outputs": []
    },
    {
      "cell_type": "code",
      "source": [
        "# Load data calculate with CE_loss.ipynb\n",
        "\n",
        "loss_fn = nn.CrossEntropyLoss()\n",
        "nleq_1 = torch.load('equal1.pth')\n",
        "demap = torch.load('demap.pth')\n",
        "loss_val_set_1 = torch.load('val1.pt')\n",
        "loss_last_batch_1 = torch.load('last_batch1.pt')"
      ],
      "metadata": {
        "id": "c2pk0-K1urv1"
      },
      "execution_count": 32,
      "outputs": []
    },
    {
      "cell_type": "code",
      "source": [
        "# Calculate test loss \n",
        "loss_test_1 = loss_fn(demap(nleq_1(y_test)).reshape(-1, 16), a_test).detach().numpy()"
      ],
      "metadata": {
        "id": "rBhrurg7v5Jf"
      },
      "execution_count": 33,
      "outputs": []
    },
    {
      "cell_type": "code",
      "source": [
        "# Plot training vs validation loss for increasing number of epochs\n",
        "\n",
        "plt.plot(np.arange(len(loss_last_batch_1)), loss_last_batch_1, label=\"Train\")\n",
        "plt.plot(np.arange(len(loss_val_set_1)), loss_val_set_1, label=\"Validation\")\n",
        "plt.plot(len(loss_val_set_1)-1, loss_test_1, marker='*', label=\"Test\")\n",
        "plt.xlabel('Epoch index')\n",
        "plt.ylabel('Loss')\n",
        "plt.legend()\n",
        "plt.grid()"
      ],
      "metadata": {
        "id": "QN9SDCWOwLlV",
        "colab": {
          "base_uri": "https://localhost:8080/",
          "height": 279
        },
        "outputId": "2645192e-5e17-4e53-89fe-28e95716dfbc"
      },
      "execution_count": 34,
      "outputs": [
        {
          "output_type": "display_data",
          "data": {
            "text/plain": [
              "<Figure size 432x288 with 1 Axes>"
            ],
            "image/png": "[encoded data removed]"
          },
          "metadata": {
            "needs_background": "light"
          }
        }
      ]
    },
    {
      "cell_type": "code",
      "source": [
        "# Estimate symbols taking the max log probability\n",
        "\n",
        "l = demap(nleq_1(Y)).reshape(-1, 16).detach().numpy()\n",
        "hard_ce = l.argmax(axis=1)"
      ],
      "metadata": {
        "id": "XzMJtMxeOLz7"
      },
      "execution_count": 35,
      "outputs": []
    },
    {
      "cell_type": "code",
      "source": [
        "# Calculate SER\n",
        "\n",
        "counter = 0\n",
        "for j in range(a.size):\n",
        "  if a[j] != hard_ce[j]:\n",
        "    counter = counter + 1\n",
        "\n",
        "SER = counter/a.size\n",
        "print(f'The SER with an hard-decision demapper trained with CE loss is {SER}')"
      ],
      "metadata": {
        "id": "ZEcP8DzPwqAb",
        "colab": {
          "base_uri": "https://localhost:8080/"
        },
        "outputId": "c893d061-2f8b-4b86-a901-866a29505052"
      },
      "execution_count": 36,
      "outputs": [
        {
          "output_type": "stream",
          "name": "stdout",
          "text": [
            "The SER with an hard-decision demapper trained with CE loss is 0.02535\n"
          ]
        }
      ]
    },
    {
      "cell_type": "code",
      "source": [
        "M = 16\n",
        "a_plot = np.arange(M)\n",
        "b_plot = get_labeling(a_plot)\n",
        "plt.scatter(x_real, x_imag)\n",
        "for i in range(M):\n",
        "    plt.annotate(f'{b_plot[i,:]}', map_sym[i])\n",
        "plt.title(f'Learned Constellation')\n",
        "plt.grid()\n",
        "plt.show()"
      ],
      "metadata": {
        "id": "Yud43OcxxTtZ",
        "colab": {
          "base_uri": "https://localhost:8080/",
          "height": 281
        },
        "outputId": "61276116-8e1f-4f9a-ab38-7afd1db37cd5"
      },
      "execution_count": 37,
      "outputs": [
        {
          "output_type": "display_data",
          "data": {
            "text/plain": [
              "<Figure size 432x288 with 1 Axes>"
            ],
            "image/png": "[encoded data removed]"
          },
          "metadata": {
            "needs_background": "light"
          }
        }
      ]
    },
    {
      "cell_type": "code",
      "source": [
        "# Link every message with its binary code\n",
        "\n",
        "map = []\n",
        "for i in range(M):\n",
        "    map.append((b_plot[i,:], map_sym[i]))"
      ],
      "metadata": {
        "id": "vpAuVj4HyVbT"
      },
      "execution_count": 38,
      "outputs": []
    },
    {
      "cell_type": "code",
      "source": [
        "# Create a correspondence between message and symbol\n",
        "\n",
        "dictionary = np.zeros((len(x),3))\n",
        "for i in range(len(x)):\n",
        "    dictionary[i][0] = a[i]\n",
        "    dictionary[i][1] = x_real[i]\n",
        "    dictionary[i][2] = x_imag[i]\n",
        "\n",
        "corr = []\n",
        "for j in range(M):\n",
        "    for k in range(len(x)):\n",
        "        if j == dictionary[k][0]:\n",
        "          corr.append((j, (dictionary[k][1],dictionary[k][2])))\n",
        "corr = list(dict.fromkeys(corr))"
      ],
      "metadata": {
        "id": "ARy4dTC7sl1p"
      },
      "execution_count": 39,
      "outputs": []
    },
    {
      "cell_type": "code",
      "source": [
        "x_ce = []\n",
        "for i in range(len(x)):\n",
        "    for j in range(M):\n",
        "        if hard_ce[i] == corr[j][0]:\n",
        "            x_ce.append(corr[j][1])\n",
        "            break"
      ],
      "metadata": {
        "id": "iTS_8yETwQLp"
      },
      "execution_count": 40,
      "outputs": []
    },
    {
      "cell_type": "code",
      "source": [
        "# Assign the binary code to the trasmitted signal and the estimated one\n",
        "\n",
        "x_map = []\n",
        "x_hat_map = []\n",
        "for i in range(len(x)):\n",
        "    for j in range(len(map)):\n",
        "        if x[i] == map[j][1]:\n",
        "            x_map.append(map[j][0])\n",
        "        if x_ce[i] == map[j][1]:\n",
        "            x_hat_map.append(map[j][0])  "
      ],
      "metadata": {
        "id": "OYVpzxUtykHL"
      },
      "execution_count": 41,
      "outputs": []
    },
    {
      "cell_type": "code",
      "source": [
        "# Check bit by bit and count the errors\n",
        "\n",
        "counter = 0\n",
        "for j in range(len(x)):\n",
        "    for i in range(4):\n",
        "        if x_map[j][i] != x_hat_map[j][i]:\n",
        "            counter = counter + 1\n",
        "\n",
        "BER = counter/(4*len(x))\n",
        "print(f'The BER with an hard-decision demapper trained with CE loss is {BER}')"
      ],
      "metadata": {
        "id": "cplEQnYQyk_3",
        "colab": {
          "base_uri": "https://localhost:8080/"
        },
        "outputId": "578c0871-4ded-4bb9-e803-89318332260a"
      },
      "execution_count": 42,
      "outputs": [
        {
          "output_type": "stream",
          "name": "stdout",
          "text": [
            "The BER with an hard-decision demapper trained with CE loss is 0.014444125\n"
          ]
        }
      ]
    },
    {
      "cell_type": "code",
      "source": [
        "equivocation = loss_fn(torch.Tensor(l), a_t).detach().numpy()/np.log(2)\n",
        "print(f'The empirical equivocation is {equivocation}')"
      ],
      "metadata": {
        "colab": {
          "base_uri": "https://localhost:8080/"
        },
        "id": "bZGgj5fJNNI7",
        "outputId": "5721feb3-30f2-4493-ac03-26a6e298797e"
      },
      "execution_count": 43,
      "outputs": [
        {
          "output_type": "stream",
          "name": "stdout",
          "text": [
            "The empirical equivocation is 0.1523526800803158\n"
          ]
        }
      ]
    }
  ],
  "metadata": {
    "colab": {
      "provenance": [],
      "collapsed_sections": [
        "_sCslKOdF_Al",
        "jKQvSpQxzcsj"
      ]
    },
    "kernelspec": {
      "display_name": "Python 3",
      "name": "python3"
    },
    "language_info": {
      "name": "python"
    }
  },
  "nbformat": 4,
  "nbformat_minor": 0
}