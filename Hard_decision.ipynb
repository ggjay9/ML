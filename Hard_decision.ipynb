{
  "nbformat": 4,
  "nbformat_minor": 0,
  "metadata": {
    "colab": {
      "provenance": []
    },
    "kernelspec": {
      "name": "python3",
      "display_name": "Python 3"
    },
    "language_info": {
      "name": "python"
    }
  },
  "cells": [
    {
      "cell_type": "code",
      "execution_count": 2,
      "metadata": {
        "colab": {
          "base_uri": "https://localhost:8080/"
        },
        "id": "bn9_ulbfZB4t",
        "outputId": "c2453ba1-ba99-4def-8cb8-da9e81bf1117"
      },
      "outputs": [
        {
          "output_type": "stream",
          "name": "stdout",
          "text": [
            "Drive already mounted at /content/drive; to attempt to forcibly remount, call drive.mount(\"/content/drive\", force_remount=True).\n"
          ]
        }
      ],
      "source": [
        "import numpy as np\n",
        "from zipfile import ZipFile\n",
        "import pickle\n",
        "import re\n",
        "import torch\n",
        "from torch import nn, optim\n",
        "from scipy.spatial import distance\n",
        "#from google.colab import drive\n",
        "#drive.mount('/content/drive')"
      ]
    },
    {
      "cell_type": "code",
      "source": [
        "# Load data\n",
        "\n",
        "!wget -O a.txt \"https://drive.google.com/uc?export=download&id=1u5TAN-nRjHoAQ02J5-3o3Yr53m66Vw56\"\n",
        "!wget -O x.zip \"https://drive.google.com/uc?export=download&id=1221858Ognjuffo3Pv6QezSiBw8xBOBe-\"\n",
        "!wget -O equal.pth \"https://drive.google.com/uc?export=download&id=1_RIKfYvv6AuBmpeHZv1Nb3e5_qgpxRh0\"\n",
        "\n",
        "a = np.loadtxt('a.txt')\n",
        "with ZipFile('/content/x.zip', 'r') as f:\n",
        "  f.extract('x.txt')\n",
        "\n",
        "x_real = []\n",
        "x_imag = []\n",
        "x = []\n",
        "with open('x.txt') as input_file:\n",
        "    for line in input_file:\n",
        "      temp = re.sub(r'[()]', \"\", line)\n",
        "      temp = complex(temp)\n",
        "      x.append((temp.real, temp.imag))\n",
        "      x_real.append(temp.real)\n",
        "      x_imag.append(temp.imag)\n",
        "\n",
        "y_real = []\n",
        "y_imag = []\n",
        "#with open('drive/MyDrive/y.txt') as input_file:\n",
        "with open('y.txt') as input_file:\n",
        "    for line in input_file:\n",
        "      temp = re.sub(r'[()]', \"\", line)\n",
        "      temp = complex(temp)\n",
        "      y_real.append(temp.real)\n",
        "      y_imag.append(temp.imag)"
      ],
      "metadata": {
        "id": "2PPtCurOZPkK",
        "colab": {
          "base_uri": "https://localhost:8080/"
        },
        "outputId": "1ac82267-babb-4777-b4ff-d5c5e23695fb"
      },
      "execution_count": 3,
      "outputs": [
        {
          "output_type": "stream",
          "name": "stdout",
          "text": [
            "--2023-02-01 08:35:22--  https://drive.google.com/uc?export=download&id=1u5TAN-nRjHoAQ02J5-3o3Yr53m66Vw56\n",
            "Resolving drive.google.com (drive.google.com)... 142.251.163.100, 142.251.163.101, 142.251.163.113, ...\n",
            "Connecting to drive.google.com (drive.google.com)|142.251.163.100|:443... connected.\n",
            "HTTP request sent, awaiting response... 303 See Other\n",
            "Location: https://doc-14-80-docs.googleusercontent.com/docs/securesc/ha0ro937gcuc7l7deffksulhg5h7mbp1/9l0kai12jpulj7o1sgnop1ujdlmt6k2j/1675240500000/00806258749903615801/*/1u5TAN-nRjHoAQ02J5-3o3Yr53m66Vw56?e=download&uuid=7dfb5742-4fc7-444a-b79a-ac3c8675e13e [following]\n",
            "Warning: wildcards not supported in HTTP.\n",
            "--2023-02-01 08:35:24--  https://doc-14-80-docs.googleusercontent.com/docs/securesc/ha0ro937gcuc7l7deffksulhg5h7mbp1/9l0kai12jpulj7o1sgnop1ujdlmt6k2j/1675240500000/00806258749903615801/*/1u5TAN-nRjHoAQ02J5-3o3Yr53m66Vw56?e=download&uuid=7dfb5742-4fc7-444a-b79a-ac3c8675e13e\n",
            "Resolving doc-14-80-docs.googleusercontent.com (doc-14-80-docs.googleusercontent.com)... 172.253.63.132, 2607:f8b0:4004:c08::84\n",
            "Connecting to doc-14-80-docs.googleusercontent.com (doc-14-80-docs.googleusercontent.com)|172.253.63.132|:443... connected.\n",
            "HTTP request sent, awaiting response... 200 OK\n",
            "Length: 52000000 (50M) [text/plain]\n",
            "Saving to: ‘a.txt’\n",
            "\n",
            "a.txt               100%[===================>]  49.59M   159MB/s    in 0.3s    \n",
            "\n",
            "2023-02-01 08:35:24 (159 MB/s) - ‘a.txt’ saved [52000000/52000000]\n",
            "\n",
            "--2023-02-01 08:35:24--  https://drive.google.com/uc?export=download&id=1221858Ognjuffo3Pv6QezSiBw8xBOBe-\n",
            "Resolving drive.google.com (drive.google.com)... 142.251.163.100, 142.251.163.101, 142.251.163.113, ...\n",
            "Connecting to drive.google.com (drive.google.com)|142.251.163.100|:443... connected.\n",
            "HTTP request sent, awaiting response... 303 See Other\n",
            "Location: https://doc-0s-80-docs.googleusercontent.com/docs/securesc/ha0ro937gcuc7l7deffksulhg5h7mbp1/v0pbg8j6ijqo8v2dorgdo4i1r1k9jamc/1675240500000/00806258749903615801/*/1221858Ognjuffo3Pv6QezSiBw8xBOBe-?e=download&uuid=664f918d-1af6-4635-837a-52bb2254f956 [following]\n",
            "Warning: wildcards not supported in HTTP.\n",
            "--2023-02-01 08:35:29--  https://doc-0s-80-docs.googleusercontent.com/docs/securesc/ha0ro937gcuc7l7deffksulhg5h7mbp1/v0pbg8j6ijqo8v2dorgdo4i1r1k9jamc/1675240500000/00806258749903615801/*/1221858Ognjuffo3Pv6QezSiBw8xBOBe-?e=download&uuid=664f918d-1af6-4635-837a-52bb2254f956\n",
            "Resolving doc-0s-80-docs.googleusercontent.com (doc-0s-80-docs.googleusercontent.com)... 172.253.63.132, 2607:f8b0:4004:c08::84\n",
            "Connecting to doc-0s-80-docs.googleusercontent.com (doc-0s-80-docs.googleusercontent.com)|172.253.63.132|:443... connected.\n",
            "HTTP request sent, awaiting response... 200 OK\n",
            "Length: 2578164 (2.5M) [application/x-zip-compressed]\n",
            "Saving to: ‘x.zip’\n",
            "\n",
            "x.zip               100%[===================>]   2.46M  --.-KB/s    in 0.1s    \n",
            "\n",
            "2023-02-01 08:35:29 (24.1 MB/s) - ‘x.zip’ saved [2578164/2578164]\n",
            "\n",
            "--2023-02-01 08:35:29--  https://drive.google.com/uc?export=download&id=1_RIKfYvv6AuBmpeHZv1Nb3e5_qgpxRh0\n",
            "Resolving drive.google.com (drive.google.com)... 142.251.163.100, 142.251.163.101, 142.251.163.113, ...\n",
            "Connecting to drive.google.com (drive.google.com)|142.251.163.100|:443... connected.\n",
            "HTTP request sent, awaiting response... 303 See Other\n",
            "Location: https://doc-04-80-docs.googleusercontent.com/docs/securesc/ha0ro937gcuc7l7deffksulhg5h7mbp1/cmohtik69pvqk77enanujr4pergcjdcq/1675240500000/00806258749903615801/*/1_RIKfYvv6AuBmpeHZv1Nb3e5_qgpxRh0?e=download&uuid=b1a07be5-eb19-46cf-8b62-78aea7202195 [following]\n",
            "Warning: wildcards not supported in HTTP.\n",
            "--2023-02-01 08:35:30--  https://doc-04-80-docs.googleusercontent.com/docs/securesc/ha0ro937gcuc7l7deffksulhg5h7mbp1/cmohtik69pvqk77enanujr4pergcjdcq/1675240500000/00806258749903615801/*/1_RIKfYvv6AuBmpeHZv1Nb3e5_qgpxRh0?e=download&uuid=b1a07be5-eb19-46cf-8b62-78aea7202195\n",
            "Resolving doc-04-80-docs.googleusercontent.com (doc-04-80-docs.googleusercontent.com)... 172.253.63.132, 2607:f8b0:4004:c08::84\n",
            "Connecting to doc-04-80-docs.googleusercontent.com (doc-04-80-docs.googleusercontent.com)|172.253.63.132|:443... connected.\n",
            "HTTP request sent, awaiting response... 200 OK\n",
            "Length: 7943 (7.8K) [application/x-zip]\n",
            "Saving to: ‘equal.pth’\n",
            "\n",
            "equal.pth           100%[===================>]   7.76K  --.-KB/s    in 0s      \n",
            "\n",
            "2023-02-01 08:35:30 (57.0 MB/s) - ‘equal.pth’ saved [7943/7943]\n",
            "\n"
          ]
        }
      ]
    },
    {
      "cell_type": "code",
      "source": [
        "# Reshape\n",
        "\n",
        "y_real_t = torch.Tensor(y_real).reshape(-1,1)\n",
        "y_imag_t = torch.Tensor(y_imag).reshape(-1,1)\n",
        "Y = torch.stack((y_real_t, y_imag_t), -1)"
      ],
      "metadata": {
        "id": "uU3w3gH1a4ld"
      },
      "execution_count": 4,
      "outputs": []
    },
    {
      "cell_type": "code",
      "source": [
        "# Define nonlinear NN for equalizer\n",
        "\n",
        "class NonlinEq(nn.Module):\n",
        "    def __init__(self):\n",
        "        super().__init__()\n",
        "        self.lin1 = nn.Linear(2, 50)\n",
        "        self.relu1 = nn.ReLU()\n",
        "        self.lin2 = nn.Linear(50, 20)\n",
        "        self.relu2 = nn.ReLU()\n",
        "        self.lin3 = nn.Linear(20,2)\n",
        "\n",
        "    def forward(self, y):\n",
        "        y = self.relu1(self.lin1(y))\n",
        "        y = self.relu2(self.lin2(y))\n",
        "        return self.lin3(y)[::2]"
      ],
      "metadata": {
        "id": "OkXOY8GtbL9g"
      },
      "execution_count": 5,
      "outputs": []
    },
    {
      "cell_type": "code",
      "source": [
        "# Convert y_eq in two arrays so that it can be plot\n",
        "\n",
        "nleq = torch.load('equal.pth')\n",
        "y_eq = nleq(Y)\n",
        "yeq = y_eq.detach().numpy()\n",
        "yeq=yeq[:,0,:]\n",
        "yeq_real = yeq[:,0]\n",
        "yeq_imag = yeq[:,1]"
      ],
      "metadata": {
        "id": "tJa2f8KUafUH"
      },
      "execution_count": 6,
      "outputs": []
    },
    {
      "cell_type": "code",
      "source": [
        "# Create a list with the 16 different mapped symbols\n",
        "\n",
        "map_sym = list(dict.fromkeys(x))\n",
        "\n",
        "# Test the euclidean distance between one point equalized and every point of the constellation \n",
        "\n",
        "A_hat = []\n",
        "X_hat = []\n",
        "\n",
        "for j in range(yeq_imag.size):\n",
        "    min_dst = 10\n",
        "    for k in range(len(map_sym)):\n",
        "        b = (yeq_real[j], yeq_imag[j]) # equalized point\n",
        "        c = map_sym[k] # constellation point\n",
        "        dst = distance.euclidean(b, c)\n",
        "\n",
        "        # Choose the point with minimum euclidean distance\n",
        "        if min_dst > dst: \n",
        "            min_dst = dst\n",
        "            a_hat = a[x.index(c)] \n",
        "            x_hat = c\n",
        "\n",
        "    # List with the hard decision made\n",
        "    A_hat.append(a_hat)\n",
        "    X_hat.append(x_hat)"
      ],
      "metadata": {
        "id": "DzYjfsHYZXch"
      },
      "execution_count": 7,
      "outputs": []
    },
    {
      "cell_type": "code",
      "source": [
        "# Save result\n",
        "\n",
        "with open(\"A_hat\", \"wb\") as fp:   \n",
        "    pickle.dump(A_hat, fp)\n",
        "with open(\"X_hat\", \"wb\") as fp:   \n",
        "    pickle.dump(X_hat, fp)"
      ],
      "metadata": {
        "id": "ko7kyLcwZufy"
      },
      "execution_count": null,
      "outputs": []
    }
  ]
}